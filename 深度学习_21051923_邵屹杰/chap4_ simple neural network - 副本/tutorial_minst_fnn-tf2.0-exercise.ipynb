{
 "cells": [
  {
   "cell_type": "markdown",
   "metadata": {},
   "source": [
    "## 准备数据"
   ]
  },
  {
   "cell_type": "code",
   "execution_count": 59,
   "metadata": {},
   "outputs": [],
   "source": [
    "import os\n",
    "import numpy as np\n",
    "import tensorflow as tf\n",
    "from tensorflow import keras\n",
    "from tensorflow.keras import layers, optimizers, datasets\n",
    "\n",
    "os.environ['TF_CPP_MIN_LOG_LEVEL'] = '2'  # or any {'0', '1', '2'}\n",
    "\n",
    "def mnist_dataset():\n",
    "    (x, y), (x_test, y_test) = datasets.mnist.load_data()\n",
    "    #normalize\n",
    "    x = x/255.0\n",
    "    x_test = x_test/255.0\n",
    "    \n",
    "    return (x, y), (x_test, y_test)"
   ]
  },
  {
   "cell_type": "code",
   "execution_count": 60,
   "metadata": {},
   "outputs": [
    {
     "name": "stdout",
     "output_type": "stream",
     "text": [
      "[(1, 'a'), (2, 'b'), (3, 'c'), (4, 'd')]\n"
     ]
    }
   ],
   "source": [
    "print(list(zip([1, 2, 3, 4], ['a', 'b', 'c', 'd'])))"
   ]
  },
  {
   "cell_type": "markdown",
   "metadata": {},
   "source": [
    "## 建立模型"
   ]
  },
  {
   "cell_type": "code",
   "execution_count": 61,
   "metadata": {},
   "outputs": [],
   "source": [
    "class myModel:\n",
    "    def __init__(self):\n",
    "        ####################\n",
    "        '''声明模型对应的参数'''\n",
    "        ####################\n",
    "        num = 1000\n",
    "        self.W1 = tf.Variable(shape=[28 * 28, num], dtype=tf.float32,\n",
    "                              initial_value=tf.random.uniform(shape=[28 * 28, num],minval=-0.1, maxval=0.1))\n",
    "        self.b1 = tf.Variable(shape=[num], dtype=tf.float32, initial_value=tf.zeros(num))\n",
    "        self.W2 = tf.Variable(shape=[num, 10], dtype=tf.float32,\n",
    "                                initial_value=tf.random.uniform(shape=[num, 10],minval=-0.1, maxval=0.1))\n",
    "        self.b2 = tf.Variable(shape=[10], dtype=tf.float32, initial_value=tf.zeros(10))\n",
    "        \n",
    "\n",
    "    def __call__(self, x):\n",
    "        ####################\n",
    "        '''实现模型函数体，返回未归一化的logits'''\n",
    "        ####################\n",
    "        flat_x = tf.reshape(x, shape=[-1, 28 * 28])\n",
    "        h1 = tf.nn.relu(tf.matmul(flat_x, self.W1) + self.b1)\n",
    "        logits = tf.matmul(h1, self.W2) + self.b2\n",
    "        return logits\n",
    "        \n",
    "model = myModel()\n",
    "\n",
    "optimizer = optimizers.Adam()"
   ]
  },
  {
   "cell_type": "markdown",
   "metadata": {},
   "source": [
    "## 计算 loss"
   ]
  },
  {
   "cell_type": "code",
   "execution_count": 62,
   "metadata": {},
   "outputs": [],
   "source": [
    "@tf.function\n",
    "def compute_loss(logits, labels):\n",
    "    return tf.reduce_mean(\n",
    "        tf.nn.sparse_softmax_cross_entropy_with_logits(\n",
    "            logits=logits, labels=labels))\n",
    "\n",
    "@tf.function\n",
    "def compute_accuracy(logits, labels):\n",
    "    predictions = tf.argmax(logits, axis=1)\n",
    "    return tf.reduce_mean(tf.cast(tf.equal(predictions, labels), tf.float32))\n",
    "\n",
    "@tf.function\n",
    "def train_one_step(model, optimizer, x, y):\n",
    "    with tf.GradientTape() as tape:\n",
    "        logits = model(x)\n",
    "        loss = compute_loss(logits, y)\n",
    "\n",
    "    # compute gradient\n",
    "    trainable_vars = [model.W1, model.W2, model.b1, model.b2]\n",
    "    grads = tape.gradient(loss, trainable_vars)\n",
    "    for g, v in zip(grads, trainable_vars):\n",
    "        v.assign_sub(0.01*g)\n",
    "\n",
    "    accuracy = compute_accuracy(logits, y)\n",
    "\n",
    "    # loss and accuracy is scalar tensor\n",
    "    return loss, accuracy\n",
    "\n",
    "@tf.function\n",
    "def test(model, x, y):\n",
    "    logits = model(x)\n",
    "    loss = compute_loss(logits, y)\n",
    "    accuracy = compute_accuracy(logits, y)\n",
    "    return loss, accuracy"
   ]
  },
  {
   "cell_type": "markdown",
   "metadata": {},
   "source": [
    "## 实际训练"
   ]
  },
  {
   "cell_type": "code",
   "execution_count": 63,
   "metadata": {},
   "outputs": [
    {
     "name": "stdout",
     "output_type": "stream",
     "text": [
      "epoch 0 : loss 2.3905141 ; accuracy 0.20203333\n",
      "epoch 1 : loss 2.337947 ; accuracy 0.21081667\n",
      "epoch 2 : loss 2.291935 ; accuracy 0.21888334\n",
      "epoch 3 : loss 2.2509954 ; accuracy 0.22891666\n",
      "epoch 4 : loss 2.214041 ; accuracy 0.23996666\n",
      "epoch 5 : loss 2.1802578 ; accuracy 0.25273332\n",
      "epoch 6 : loss 2.1490245 ; accuracy 0.26703334\n",
      "epoch 7 : loss 2.119862 ; accuracy 0.28203332\n",
      "epoch 8 : loss 2.0923965 ; accuracy 0.2974\n",
      "epoch 9 : loss 2.0663376 ; accuracy 0.31305\n",
      "epoch 10 : loss 2.0414567 ; accuracy 0.33028334\n",
      "epoch 11 : loss 2.017575 ; accuracy 0.34721667\n",
      "epoch 12 : loss 1.9945508 ; accuracy 0.36391667\n",
      "epoch 13 : loss 1.9722735 ; accuracy 0.38\n",
      "epoch 14 : loss 1.9506553 ; accuracy 0.39553332\n",
      "epoch 15 : loss 1.9296277 ; accuracy 0.4103\n",
      "epoch 16 : loss 1.9091341 ; accuracy 0.4246\n",
      "epoch 17 : loss 1.8891299 ; accuracy 0.43905\n",
      "epoch 18 : loss 1.8695794 ; accuracy 0.45206666\n",
      "epoch 19 : loss 1.8504533 ; accuracy 0.4649\n",
      "epoch 20 : loss 1.8317275 ; accuracy 0.47716665\n",
      "epoch 21 : loss 1.8133824 ; accuracy 0.48941666\n",
      "epoch 22 : loss 1.7954013 ; accuracy 0.50123334\n",
      "epoch 23 : loss 1.7777705 ; accuracy 0.51241666\n",
      "epoch 24 : loss 1.7604773 ; accuracy 0.52271664\n",
      "epoch 25 : loss 1.7435107 ; accuracy 0.53225\n",
      "epoch 26 : loss 1.7268608 ; accuracy 0.54145\n",
      "epoch 27 : loss 1.7105186 ; accuracy 0.55055\n",
      "epoch 28 : loss 1.6944765 ; accuracy 0.55943334\n",
      "epoch 29 : loss 1.6787268 ; accuracy 0.56815\n",
      "epoch 30 : loss 1.6632627 ; accuracy 0.57738334\n",
      "epoch 31 : loss 1.6480784 ; accuracy 0.5857667\n",
      "epoch 32 : loss 1.633168 ; accuracy 0.5934333\n",
      "epoch 33 : loss 1.618525 ; accuracy 0.6006333\n",
      "epoch 34 : loss 1.6041437 ; accuracy 0.6073\n",
      "epoch 35 : loss 1.5900184 ; accuracy 0.61406666\n",
      "epoch 36 : loss 1.5761435 ; accuracy 0.61981666\n",
      "epoch 37 : loss 1.5625143 ; accuracy 0.6259\n",
      "epoch 38 : loss 1.5491256 ; accuracy 0.63235\n",
      "epoch 39 : loss 1.535973 ; accuracy 0.63875\n",
      "epoch 40 : loss 1.5230509 ; accuracy 0.64395\n",
      "epoch 41 : loss 1.5103546 ; accuracy 0.64893335\n",
      "epoch 42 : loss 1.4978802 ; accuracy 0.65393335\n",
      "epoch 43 : loss 1.4856224 ; accuracy 0.65885\n",
      "epoch 44 : loss 1.4735763 ; accuracy 0.66326666\n",
      "epoch 45 : loss 1.4617378 ; accuracy 0.66735\n",
      "epoch 46 : loss 1.4501021 ; accuracy 0.6713833\n",
      "epoch 47 : loss 1.4386652 ; accuracy 0.67571664\n",
      "epoch 48 : loss 1.4274224 ; accuracy 0.6794\n",
      "epoch 49 : loss 1.4163706 ; accuracy 0.68295\n",
      "test loss 1.3832035 ; accuracy 0.6959\n"
     ]
    }
   ],
   "source": [
    "train_data, test_data = mnist_dataset()\n",
    "for epoch in range(50):\n",
    "    loss, accuracy = train_one_step(model, optimizer, \n",
    "                                    tf.constant(train_data[0], dtype=tf.float32), \n",
    "                                    tf.constant(train_data[1], dtype=tf.int64))\n",
    "    print('epoch', epoch, ': loss', loss.numpy(), '; accuracy', accuracy.numpy())\n",
    "loss, accuracy = test(model, \n",
    "                    tf.constant(test_data[0], dtype=tf.float32), \n",
    "                    tf.constant(test_data[1], dtype=tf.int64))\n",
    "\n",
    "print('test loss', loss.numpy(), '; accuracy', accuracy.numpy())"
   ]
  }
 ],
 "metadata": {
  "kernelspec": {
   "display_name": "mytensor",
   "language": "python",
   "name": "python3"
  },
  "language_info": {
   "codemirror_mode": {
    "name": "ipython",
    "version": 3
   },
   "file_extension": ".py",
   "mimetype": "text/x-python",
   "name": "python",
   "nbconvert_exporter": "python",
   "pygments_lexer": "ipython3",
   "version": "3.7.16"
  },
  "vscode": {
   "interpreter": {
    "hash": "7204e3f8e733de2c70127a9870fbdd97758bb0bf1b4165da84ad518f088d5638"
   }
  }
 },
 "nbformat": 4,
 "nbformat_minor": 2
}
